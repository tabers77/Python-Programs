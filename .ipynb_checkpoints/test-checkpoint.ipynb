{
 "cells": [
  {
   "cell_type": "code",
   "execution_count": 1,
   "metadata": {},
   "outputs": [
    {
     "name": "stdout",
     "output_type": "stream",
     "text": [
      "/Users/Tabe/Desktop/pythonprojects/Python-Programs\r\n"
     ]
    }
   ],
   "source": [
    "! pwd"
   ]
  },
  {
   "cell_type": "markdown",
   "metadata": {},
   "source": [
    "- create a commit message that keeps track of the last time the notebook was run.\n",
    "- navigate to the root of the local repository on my computer (in case I somehow ended up navigating outside of it)\n",
    "- create a text file with my commit message (you can use python variables in your bash commands by prefixing them with a $)\n",
    "- stage and commit all files in the repository. git commit -F allows me to pass a file as a commit message.\n",
    "- push the changes into my master branch"
   ]
  },
  {
   "cell_type": "code",
   "execution_count": 4,
   "metadata": {},
   "outputs": [
    {
     "data": {
      "text/plain": [
       "'maps dna ,and ,spaM'"
      ]
     },
     "execution_count": 4,
     "metadata": {},
     "output_type": "execute_result"
    }
   ],
   "source": [
    "def reverse_string(input_string):\n",
    "    \"\"\"This function take a string as an argument and returns it in reverse order.\"\"\"    \n",
    "    assert(type(input_string) == str), \"{} is not a string!\".format(input_string)    \n",
    "    return(input_string[::-1])\n",
    "\n",
    "reverse_string(\"Maps, dna, and spam\") #see what I did there?"
   ]
  },
  {
   "cell_type": "code",
   "execution_count": 6,
   "metadata": {},
   "outputs": [
    {
     "name": "stdout",
     "output_type": "stream",
     "text": [
      "remote: Enumerating objects: 5, done.\u001b[K\n",
      "remote: Counting objects: 100% (5/5), done.\u001b[K\n",
      "remote: Compressing objects: 100% (4/4), done.\u001b[K\n",
      "remote: Total 4 (delta 2), reused 0 (delta 0), pack-reused 0\u001b[K\n",
      "Unpacking objects: 100% (4/4), done.\n",
      "From https://github.com/tabers77/Python-Programs\n",
      "   7e6f460..8d1a6a6  master     -> origin/master\n",
      "CONFLICT (modify/delete): commit_message.txt deleted in 8d1a6a64571d334669b19af4069d1aeeaf2a6605 and modified in HEAD. Version HEAD of commit_message.txt left in tree.\n",
      "Automatic merge failed; fix conflicts and then commit the result.\n"
     ]
    }
   ],
   "source": [
    "! git pull"
   ]
  },
  {
   "cell_type": "code",
   "execution_count": 7,
   "metadata": {},
   "outputs": [
    {
     "name": "stdout",
     "output_type": "stream",
     "text": [
      "[master 90640d0] Last run on 2020-10-30 17:44:49.990269\n",
      " Committer: Carlos De la cruz <Tabe@Carloss-MBP-2.lan>\n",
      "Your name and email address were configured automatically based\n",
      "on your username and hostname. Please check that they are accurate.\n",
      "You can suppress this message by setting them explicitly. Run the\n",
      "following command and follow the instructions in your editor to edit\n",
      "your configuration file:\n",
      "\n",
      "    git config --global --edit\n",
      "\n",
      "After doing this, you may fix the identity used for this commit with:\n",
      "\n",
      "    git commit --amend --reset-author\n",
      "\n",
      "Enumerating objects: 15, done.\n",
      "Counting objects: 100% (14/14), done.\n",
      "Delta compression using up to 4 threads\n",
      "Compressing objects: 100% (7/7), done.\n",
      "Writing objects: 100% (10/10), 3.45 KiB | 883.00 KiB/s, done.\n",
      "Total 10 (delta 2), reused 0 (delta 0)\n",
      "remote: Resolving deltas: 100% (2/2), done.\u001b[K\n",
      "To https://github.com/tabers77/Python-Programs.git\n",
      "   8d1a6a6..90640d0  master -> master\n"
     ]
    }
   ],
   "source": [
    "import datetime\n",
    "now = datetime.datetime.now()\n",
    "commit_message = \"Last run on \" + str(now)\n",
    "\n",
    "! cd \"/Users/Tabe/Desktop/pythonprojects/Python-Programs\"\n",
    "! echo $commit_message > commit_message.txt\n",
    "! git add . \n",
    "! git commit -F commit_message.txt\n",
    "! git push origin master"
   ]
  },
  {
   "cell_type": "code",
   "execution_count": null,
   "metadata": {},
   "outputs": [],
   "source": []
  }
 ],
 "metadata": {
  "kernelspec": {
   "display_name": "Python 3",
   "language": "python",
   "name": "python3"
  },
  "language_info": {
   "codemirror_mode": {
    "name": "ipython",
    "version": 3
   },
   "file_extension": ".py",
   "mimetype": "text/x-python",
   "name": "python",
   "nbconvert_exporter": "python",
   "pygments_lexer": "ipython3",
   "version": "3.7.5"
  }
 },
 "nbformat": 4,
 "nbformat_minor": 2
}
