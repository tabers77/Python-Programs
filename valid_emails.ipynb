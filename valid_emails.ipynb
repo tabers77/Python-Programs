{
 "cells": [
  {
   "cell_type": "markdown",
   "metadata": {},
   "source": [
    "## Task: ..."
   ]
  },
  {
   "cell_type": "markdown",
   "metadata": {},
   "source": [
    "## 1. Initial script "
   ]
  },
  {
   "cell_type": "code",
   "execution_count": null,
   "metadata": {},
   "outputs": [],
   "source": [
    "# Script 1 \n",
    "\n",
    "import PyPDF2\n",
    "from PIL import Image \n",
    "import pytesseract \n",
    "import sys \n",
    "from pdf2image import convert_from_path \n",
    "import os \n",
    "\n",
    "# Path of the pdf \n",
    "PDF_file = 'faktura.pdf'\n",
    "\n",
    "''' \n",
    "Part #1 - Converting PDF to images \n",
    "'''\n",
    "\n",
    "# Store all the pages of the PDF in a variable \n",
    "\n",
    "image_counter = 1 \n",
    "print('Loading pages...')\n",
    "pages = convert_from_path(PDF_file, 500) \n",
    "\n",
    "\n",
    "print('Looping throug pages...')\n",
    "\n",
    "# Iterate through all the pages stored above \n",
    "for idx,page in enumerate(pages): \n",
    "    filename = \"page_\" +str(image_counter)+ \".jpg\"\n",
    "    # Save the image of the page in system \n",
    "    page.save(filename, 'JPEG') \n",
    "    # Increment the counter to update filename \n",
    "    image_counter = image_counter + 1\n",
    "    \n",
    "''' \n",
    "Part #2 - Recognizing text from the images using OCR \n",
    "'''\n",
    "\n",
    "print('Part2...')\n",
    "# Variable to get count of total number of pages \n",
    "filelimit = image_counter-1\n",
    "  \n",
    "# Creating a text file to write the output \n",
    "outfile = \"out_text.txt\"\n",
    "  \n",
    "# Open the file in append mode so that  \n",
    "# All contents of all images are added to the same file \n",
    "f = open(outfile, \"a\") \n",
    "  \n",
    "# Iterate from 1 to total number of pages \n",
    "for i in range(1, filelimit + 1): \n",
    "\n",
    "    filename = \"page_\"+str(i)+\".jpg\"\n",
    "          \n",
    "    # Recognize the text as string in image using pytesserct \n",
    "    text = str(((pytesseract.image_to_string(Image.open(filename))))) \n",
    "  \n",
    "    text = text.replace('-\\n', '')     \n",
    "  \n",
    "    # Finally, write the processed text to the file. \n",
    "    f.write(text) \n",
    "  \n",
    "# Close the file after writing all the text. \n",
    "f.close() \n"
   ]
  },
  {
   "cell_type": "markdown",
   "metadata": {},
   "source": [
    "## 2. Matching emails"
   ]
  },
  {
   "cell_type": "code",
   "execution_count": 17,
   "metadata": {},
   "outputs": [],
   "source": [
    "import pandas as pd \n",
    "import re "
   ]
  },
  {
   "cell_type": "code",
   "execution_count": 10,
   "metadata": {},
   "outputs": [],
   "source": [
    "f = open(\"out_text.txt\", \"r\")\n",
    "file = f.read()"
   ]
  },
  {
   "cell_type": "code",
   "execution_count": 35,
   "metadata": {},
   "outputs": [],
   "source": [
    "lst = re.split(', Renewal|, Subscription|\\n', file)\n",
    "valid_emails = []\n",
    "\n",
    "for i in lst:\n",
    "    if '.' in i and len(i) < 20 and 'Moms' not in i : \n",
    "        if i not in valid_emails:\n",
    "            valid_emails.append(i)"
   ]
  },
  {
   "cell_type": "code",
   "execution_count": 38,
   "metadata": {},
   "outputs": [
    {
     "name": "stdout",
     "output_type": "stream",
     "text": [
      "202\n"
     ]
    },
    {
     "data": {
      "text/plain": [
       "['bamseferie.no',\n",
       " 'bamseklubben.com',\n",
       " 'bamseklubben.nu',\n",
       " 'bamseklubben.se',\n",
       " 'bamsereise.no',\n",
       " 'bamensresesajt.com',\n",
       " 'bamereise.no',\n",
       " 'bliguide.se',\n",
       " 'blireiseleder.no',\n",
       " 'blireseledare.se',\n",
       " 'blueacademy.dk',\n",
       " 'blue-academy.dk',\n",
       " 'blueacademy.eu',\n",
       " 'bluecouples.com',\n",
       " 'bluecouples.dk',\n",
       " 'bluecouples.eu',\n",
       " 'bluecouples.fi',\n",
       " 'bluecouples.net',\n",
       " 'bluecouples.no',\n",
       " 'bluecouples.nu',\n",
       " 'bluecouples.org',\n",
       " 'bluecouples.se',\n",
       " 'bluenews.dk',\n",
       " 'bluenews.no',\n",
       " 'bluenews.se',\n",
       " 'blueselection.com',\n",
       " 'blueselection.fi',\n",
       " 'blueselection.nu',\n",
       " 'blueselection.se',\n",
       " 'bluestar.fi',\n",
       " 'bluestar.no',\n",
       " 'bluestar.se',\n",
       " 'bluetrain.se',\n",
       " 'blue-train.se',\n",
       " 'bluevillage.dk',\n",
       " 'bluevillage.eu',\n",
       " 'bluevillage.fi',\n",
       " 'bluevillage.mobi',\n",
       " 'bluevillage.nu',\n",
       " 'bluevillage.se',\n",
       " 'bluevillas.dk',\n",
       " 'bluevillas.fi',\n",
       " 'bluevillas.net',\n",
       " 'bluevillas.no',\n",
       " 'bluevillas.nu',\n",
       " 'bluevillas.org',\n",
       " 'bluevillas.se',\n",
       " 'bixcrew.se',\n",
       " 'bixor.com',\n",
       " 'blxor.se',\n",
       " 'bixor.se',\n",
       " 'cruiseblogg.com',\n",
       " 'cruiseblogg.se',\n",
       " 'dageneduhusker.no',\n",
       " 'feriebilaget.no',\n",
       " 'ferie-tips.no',\n",
       " 'ferietipset.no',\n",
       " 'ferie-tipset.no',\n",
       " 'finnmatkat.biz',\n",
       " 'finnmatkat.eu',\n",
       " 'finnmatkat.fi',\n",
       " 'finnmatkat.info',\n",
       " 'finnmatkat.mobi',\n",
       " 'finnmatkat.nu',\n",
       " 'finnmatkat.se',\n",
       " 'finnmatkat.tv',\n",
       " 'flygtrygg.nu',\n",
       " 'flygtrygg.se',\n",
       " 'flytrygt.no',\n",
       " 'flytrygt.nu',\n",
       " 'flyvirygt.dk',\n",
       " 'frg.biz',\n",
       " 'fritidsrejser.dk',\n",
       " 'fritidsresa.se',\n",
       " 'fritidsresor.biz',\n",
       " 'fritidsresor.dk',\n",
       " 'fritids-resor.eu',\n",
       " 'fritidsresor.fi',\n",
       " 'fritidsresor.info',\n",
       " 'fritidsresor.mobi',\n",
       " 'fritidsresor.net',\n",
       " 'fritidsresor.nu',\n",
       " 'fritidsresor.org',\n",
       " 'fritidsresor.se',\n",
       " 'fritids-resor.se',\n",
       " 'fritidsresor.tv',\n",
       " 'fritidsresortv.se',\n",
       " 'fritisresor.com',\n",
       " 'fritisresor.nu',\n",
       " 'fritisresor.org',\n",
       " 'fritte.nu',\n",
       " 'grandcruises.eu',\n",
       " 'grandtours.eu',\n",
       " 'grandtours.mobi',\n",
       " 'gruppeturer.no',\n",
       " 'haeoppaaksi.fi',\n",
       " 'hassenmatkat.fi',\n",
       " 'holidaymaster.dk',\n",
       " 'holidaymaster.mobi',\n",
       " 'holidaymaster.no',\n",
       " 'holidaymaster.nu',\n",
       " 'lomahuuma.fi',\n",
       " 'lomailunsm.biz',\n",
       " 'lomailunsm.com',\n",
       " 'lomailunsm.eu',\n",
       " 'lomailunsm.fi',\n",
       " 'lomailunsm.info',\n",
       " 'lomailunsm.net',\n",
       " 'lomailunsm.nu',\n",
       " 'lomailunsm.org',\n",
       " 'lomakompassi.biz',\n",
       " 'lomakompassi.com',\n",
       " 'lomakompassi.fi',\n",
       " 'lomakompassi.info',\n",
       " 'lomakompassi.net',\n",
       " 'lomakompassi.org',\n",
       " 'lomalinko.fi',\n",
       " 'matkaoppaaksi.fi',\n",
       " 'myplanetreiser.no',\n",
       " 'myplanet-reiser.no',\n",
       " 'quarkexpeditions.dk',\n",
       " 'quarkexpeditions.fi',\n",
       " 'quarkexpeditions.no',\n",
       " 'quarkexpeditions.se',\n",
       " 'reisebilaget.no',\n",
       " 'rejse-tips.dk',\n",
       " 'reseledare.nu',\n",
       " 'reslust.com',\n",
       " 'reslust.se',\n",
       " 'saaveikkaus.fi',\n",
       " 'sansereiser.no',\n",
       " 'solrejser.dk',\n",
       " 'startou.dk',\n",
       " 'startour.biz',\n",
       " 'startour.dk',\n",
       " 'star-tour.dk',\n",
       " 'startour.eu',\n",
       " 'star-tour.eu',\n",
       " 'startour.info',\n",
       " 'startour.mobi',\n",
       " 'startour.no',\n",
       " 'star-tour.no',\n",
       " 'startour.nu',\n",
       " 'startour.se',\n",
       " 'startour.tv',\n",
       " 'startours.dk',\n",
       " 'star-tours.dk',\n",
       " 'startours.no',\n",
       " 'startourtv.no',\n",
       " 'startour-tv.no',\n",
       " 'startr.dk',\n",
       " 'starttour.no',\n",
       " 'startuor.dk',\n",
       " 'startur.dk',\n",
       " 'starturs.dk',\n",
       " 'statour.dk',\n",
       " 'stroviagsresor.se',\n",
       " 'strtour.dk',\n",
       " 'strévtagsresor.se',\n",
       " 'stréviagsresor.se',\n",
       " 'superkids.eu',\n",
       " 'superkids.se',\n",
       " 'tihfinland.fi',\n",
       " 'travelife.dk',\n",
       " 'travelife.fi',\n",
       " 'travelife.no',\n",
       " 'travelife.se',\n",
       " 'travelkids.dk',\n",
       " 'travelkids.fi',\n",
       " 'travelkids.mobi',\n",
       " 'travelkids.nu',\n",
       " 'travelkids.se',\n",
       " 'travellife.fi',\n",
       " 'travellife.no',\n",
       " 'tui.nu',\n",
       " 'tui.se',\n",
       " 'tuiad.org',\n",
       " 'tuifly.nu',\n",
       " 'tuiflynordic.com',\n",
       " 'tuiflynordic.dk',\n",
       " 'tuiflynordic.fi',\n",
       " 'tuiflynordic.mobi',\n",
       " 'tuiflynordic.net',\n",
       " 'tuiflynordic.no',\n",
       " 'tuiflynordic.nu',\n",
       " 'tuiflynordic.org',\n",
       " 'tuiflynordic.se',\n",
       " 'tuilink.net',\n",
       " 'tuinordic.com',\n",
       " 'tuinordic.eu',\n",
       " 'tui-nordic.eu',\n",
       " 'tuinordic.net',\n",
       " 'tuinordic.nu',\n",
       " 'tuinordic.org',\n",
       " 'tuinordic.se',\n",
       " 'wonderclub.eu',\n",
       " 'wonderclub.fi',\n",
       " 'wonderclub.no',\n",
       " 'wonderclub.se',\n",
       " 'wonderholding.com',\n",
       " 'worldoftui.nu',\n",
       " 'worldoftui.se']"
      ]
     },
     "execution_count": 38,
     "metadata": {},
     "output_type": "execute_result"
    }
   ],
   "source": [
    "print(len(valid_emails))\n",
    "valid_emails\n"
   ]
  },
  {
   "cell_type": "code",
   "execution_count": 37,
   "metadata": {},
   "outputs": [],
   "source": [
    "# sql \n",
    "\n",
    "from google.cloud import bigquery\n",
    "import os\n",
    "os.environ['GOOGLE_APPLICATION_CREDENTIALS'] ='/Users/carlosdelacruz/Desktop/j_credentials.json'\n",
    "\n",
    "from google.cloud import bigquery\n",
    "\n",
    "bigquery_client = bigquery.Client(project='data-mind-679')\n"
   ]
  },
  {
   "cell_type": "code",
   "execution_count": 59,
   "metadata": {},
   "outputs": [],
   "source": [
    "query = \"\"\"\n",
    "SELECT \n",
    "\n",
    "distinct trafficsource.source\n",
    "\n",
    "FROM `data-mind-679.203214124.ga_sessions_*` \n",
    "\n",
    "WHERE \n",
    "_TABLE_SUFFIX > '20190101' AND trafficsource.medium = 'referral'\n",
    "\n",
    "\"\"\"\n",
    "query_job = bigquery_client.query(query)\n",
    "\n",
    "referrals = query_job.to_dataframe()"
   ]
  },
  {
   "cell_type": "code",
   "execution_count": 48,
   "metadata": {},
   "outputs": [
    {
     "data": {
      "text/plain": [
       "{'bluenews.se',\n",
       " 'finnmatkat.fi',\n",
       " 'fritidsresor.se',\n",
       " 'startour.dk',\n",
       " 'startour.no',\n",
       " 'tui.se',\n",
       " 'tuiflynordic.dk',\n",
       " 'tuiflynordic.fi',\n",
       " 'tuiflynordic.no',\n",
       " 'tuiflynordic.se'}"
      ]
     },
     "execution_count": 48,
     "metadata": {},
     "output_type": "execute_result"
    }
   ],
   "source": [
    "ref_list = list(referrals.source)\n",
    "\n",
    "s1 = set(ref_list) \n",
    "s2 = set(valid_emails)\n",
    "\n",
    "matches = s1 & s2 \n",
    "matches"
   ]
  },
  {
   "cell_type": "code",
   "execution_count": 60,
   "metadata": {},
   "outputs": [
    {
     "data": {
      "text/plain": [
       "{'bluenews.se',\n",
       " 'finnmatkat.fi',\n",
       " 'fritidsresor.se',\n",
       " 'startour.dk',\n",
       " 'startour.no',\n",
       " 'tui.se',\n",
       " 'tuiflynordic.dk',\n",
       " 'tuiflynordic.fi',\n",
       " 'tuiflynordic.no',\n",
       " 'tuiflynordic.se',\n",
       " 'tuinordic.com'}"
      ]
     },
     "execution_count": 60,
     "metadata": {},
     "output_type": "execute_result"
    }
   ],
   "source": [
    "ref_list = list(referrals.source)\n",
    "\n",
    "s1 = set(ref_list) \n",
    "s2 = set(valid_emails)\n",
    "\n",
    "matches = s1 & s2 \n",
    "matches"
   ]
  },
  {
   "cell_type": "markdown",
   "metadata": {},
   "source": [
    "## 3. Request"
   ]
  },
  {
   "cell_type": "code",
   "execution_count": 53,
   "metadata": {},
   "outputs": [
    {
     "name": "stdout",
     "output_type": "stream",
     "text": [
      "/Users/carlosdelacruz/Desktop\r\n"
     ]
    }
   ],
   "source": [
    "!pwd"
   ]
  },
  {
   "cell_type": "code",
   "execution_count": null,
   "metadata": {},
   "outputs": [],
   "source": [
    "! git pull\n",
    "! git init\n",
    "! git config user.name \"tabers77\"\n",
    "! git config user.email \"tabers77@gmail.com\"\n",
    "! git add .\n",
    "! git commit -m \"testing\"\n",
    "! git push origin master \n",
    "print ('Done!')"
   ]
  },
  {
   "cell_type": "code",
   "execution_count": null,
   "metadata": {},
   "outputs": [],
   "source": []
  },
  {
   "cell_type": "code",
   "execution_count": null,
   "metadata": {},
   "outputs": [],
   "source": []
  },
  {
   "cell_type": "code",
   "execution_count": null,
   "metadata": {},
   "outputs": [],
   "source": []
  }
 ],
 "metadata": {
  "kernelspec": {
   "display_name": "Python 3",
   "language": "python",
   "name": "python3"
  },
  "language_info": {
   "codemirror_mode": {
    "name": "ipython",
    "version": 3
   },
   "file_extension": ".py",
   "mimetype": "text/x-python",
   "name": "python",
   "nbconvert_exporter": "python",
   "pygments_lexer": "ipython3",
   "version": "3.7.5"
  }
 },
 "nbformat": 4,
 "nbformat_minor": 4
}
