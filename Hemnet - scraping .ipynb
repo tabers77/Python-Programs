{
 "cells": [
  {
   "cell_type": "code",
   "execution_count": 1,
   "metadata": {},
   "outputs": [],
   "source": [
    "# main page\n",
    "# extract parameters from the first block \n",
    "# "
   ]
  },
  {
   "cell_type": "code",
   "execution_count": 1,
   "metadata": {},
   "outputs": [],
   "source": [
    "from bs4 import BeautifulSoup\n",
    "import pandas as pd\n",
    "import requests\n",
    "import pandas as pd \n",
    "from itertools import chain \n",
    "import numpy as np "
   ]
  },
  {
   "cell_type": "code",
   "execution_count": 2,
   "metadata": {},
   "outputs": [],
   "source": [
    "def clean (df): \n",
    "    #To int: \n",
    "    def to_int (item):\n",
    "        a =[]\n",
    "        for n in item:\n",
    "            if n.isnumeric():\n",
    "                a.append(n)\n",
    "        return int(''.join(a)) \n",
    "    \n",
    "    df['slutpris'] = df['slutpris'].apply(to_int)\n",
    "    df['city-kommun'] = df['område'].apply(lambda i :  i.split()[-1] )\n",
    "    df['type of boende'] = df['område'].apply(lambda i :  i.split()[0] )\n",
    "    df['area'] = df['område'].apply(lambda row : row.split()[1].strip(','))\n",
    "    df['size'] = df['size'].apply(lambda x: float(x.split()[0].replace(',', '.')) if len(x) >30 else np.nan)\n",
    "    df['price_change'] = df['price_change'].apply(lambda x: x.split()[0] if type(x) != float and len(x)!=1 else np.nan)\n",
    "    df['price_change'] = df['price_change'].apply(lambda x: int(x.strip('-')) if type(x) != float else np.nan)\n",
    "    df['pris_per_m2'] = round(df['slutpris'] / df['size'],0)\n",
    "    cols_to_drop = ['område']\n",
    "    df.drop(cols_to_drop,axis=1,inplace=True)\n",
    "    df = df[['gata','city-kommun','type of boende','area', 'slutpris', 'pris_per_m2', 'size', 'price_change']]\n",
    "    return df \n",
    "\n",
    "def hemnet_generator(sold_age = '6m',zone = None,num_pages = 3, keyword = None): \n",
    "    adress_ = [] \n",
    "    adress2_ = []\n",
    "    size = [] \n",
    "    tomt_size = [] \n",
    "    slutpris_ = [] \n",
    "    pris_per_m2_ = [] \n",
    "    price_change = [] \n",
    "    \n",
    "    for n in range(1,num_pages + 1 ):\n",
    "        järfälla_url = f\"https://www.hemnet.se/salda/bostader?location_ids%5B%5D={zone}&page={n}&sold_age={sold_age}\"\n",
    "        for page in järfälla_url:\n",
    "            b = ''.join(järfälla_url)\n",
    "        page = requests.get(b)\n",
    "        soup = BeautifulSoup(page.text, \"html.parser\")\n",
    "        \n",
    "        location = soup.findAll('div', class_='sold-property-listing__location')\n",
    "        price = soup.findAll('div', class_='sold-property-listing__price')\n",
    "        main_size = soup.findAll('div', class_='sold-property-listing__size')\n",
    "        fee1 = soup.find_all('div', class_= \"sold-property-listing__fee\")\n",
    "        \n",
    "        adr = [i.find('span', class_= 'item-result-meta-attribute-is-bold item-link').text for i in location]\n",
    "        adr2 =  [i.find('div').text for i in location]\n",
    "        sp =[i.find('span', class_= 'sold-property-listing__subheading sold-property-listing--left').text for i in price]\n",
    "        si = [i.find('div').text for i in main_size]\n",
    "        p_m2 =[i.find('div', class_= 'sold-property-listing__price-per-m2 sold-property-listing--left') for i in price ] \n",
    "    \n",
    "\n",
    "        for i in soup.findAll('div', class_='sold-property-listing'): \n",
    "            pc = i.find('div', class_='sold-property-listing__price-change')\n",
    "            if pc == None:\n",
    "                price_change.append(np.nan)\n",
    "            else:\n",
    "                price_change.append(pc.text)\n",
    "    \n",
    "        for row in soup.findAll('div', class_='sold-property-listing__size'): \n",
    "            a = row.find('div', class_='sold-property-listing__subheading')\n",
    "            size.append(a.text)\n",
    "        \n",
    "        ##### To lists:\n",
    "        adress_.append(adr)\n",
    "        adress2_.append(adr2)\n",
    "        slutpris_.append(sp)\n",
    "        pris_per_m2_.append(p_m2)\n",
    "        \n",
    "    ##### Flatten arrays \n",
    "    adress = list(chain.from_iterable(adress_))\n",
    "    pris_per_m2 = list(chain.from_iterable(pris_per_m2_))\n",
    "    slutpris = list(chain.from_iterable(slutpris_))\n",
    "    adress2 = list(chain.from_iterable(adress2_))\n",
    "        \n",
    "    d = {\n",
    "        'gata': adress, \n",
    "        'område':adress2, \n",
    "        'slutpris':slutpris,\n",
    "        'pris_per_m2':pris_per_m2,\n",
    "        'size':size,\n",
    "        'price_change':price_change\n",
    "        }\n",
    "    df = pd.DataFrame(d)\n",
    "    df = clean (df)\n",
    "\n",
    "    #Testing\n",
    "    if keyword != None :\n",
    "        kw_list = []\n",
    "        for row in df.gata: \n",
    "            if keyword in row:\n",
    "                kw_list.append(row)\n",
    "        return df[df[\"gata\"].isin(kw_list)] \n",
    "               \n",
    "    else:\n",
    "        return df   "
   ]
  },
  {
   "cell_type": "markdown",
   "metadata": {},
   "source": [
    "### To dataframe"
   ]
  },
  {
   "cell_type": "code",
   "execution_count": 3,
   "metadata": {},
   "outputs": [],
   "source": [
    "########\n",
    "#Loc\n",
    "########\n",
    "\n",
    "järfälla = 17951\n",
    "sollentuna = 18027\n",
    "solna = 18028\n",
    "sundbyberg = 18042\n",
    "hammarby_sjöstad =925972\n",
    "johhaneshov =473376\n",
    "kungsholmen = 925968"
   ]
  },
  {
   "cell_type": "code",
   "execution_count": 198,
   "metadata": {},
   "outputs": [],
   "source": [
    "jak_deps_6m = hemnet_generator(zone = järfälla  ,num_pages=50, keyword='Vasavägen')\n",
    "jak_deps_3m = hemnet_generator(sold_age='3m' ,zone = järfälla  ,num_pages=50, keyword='Vasavägen')"
   ]
  },
  {
   "cell_type": "markdown",
   "metadata": {},
   "source": [
    "### EDA"
   ]
  },
  {
   "cell_type": "code",
   "execution_count": 93,
   "metadata": {},
   "outputs": [],
   "source": [
    "########\n",
    "#Brainstorm\n",
    "########\n",
    "\n",
    "#correlation with price \n",
    "#create a filter based on my needs to see where I could buy - create a function that calculates this based on the price increases"
   ]
  },
  {
   "cell_type": "code",
   "execution_count": 4,
   "metadata": {},
   "outputs": [],
   "source": [
    "# Zones I am interested in:\n",
    "hammarby_s = hemnet_generator(zone = hammarby_sjöstad  ,num_pages=50)\n",
    "sollentuna = hemnet_generator(zone = sollentuna  ,num_pages=50)\n",
    "solna = hemnet_generator(zone = solna ,num_pages=50)\n",
    "sundbyberg = hemnet_generator(zone = sundbyberg ,num_pages=50)\n",
    "johhaneshov = hemnet_generator(zone = johhaneshov,num_pages=50)\n",
    "kungsholmen = hemnet_generator(zone = kungsholmen, num_pages=50)\n",
    "järfälla = hemnet_generator(zone = järfälla, num_pages=50)"
   ]
  },
  {
   "cell_type": "code",
   "execution_count": 16,
   "metadata": {},
   "outputs": [
    {
     "data": {
      "text/html": [
       "<div>\n",
       "<style scoped>\n",
       "    .dataframe tbody tr th:only-of-type {\n",
       "        vertical-align: middle;\n",
       "    }\n",
       "\n",
       "    .dataframe tbody tr th {\n",
       "        vertical-align: top;\n",
       "    }\n",
       "\n",
       "    .dataframe thead th {\n",
       "        text-align: right;\n",
       "    }\n",
       "</style>\n",
       "<table border=\"1\" class=\"dataframe\">\n",
       "  <thead>\n",
       "    <tr style=\"text-align: right;\">\n",
       "      <th></th>\n",
       "      <th>gata</th>\n",
       "      <th>city-kommun</th>\n",
       "      <th>type of boende</th>\n",
       "      <th>area</th>\n",
       "      <th>slutpris</th>\n",
       "      <th>pris_per_m2</th>\n",
       "      <th>size</th>\n",
       "      <th>price_change</th>\n",
       "    </tr>\n",
       "  </thead>\n",
       "  <tbody>\n",
       "    <tr>\n",
       "      <th>0</th>\n",
       "      <td>Grönstensvägen 1</td>\n",
       "      <td>Järfälla</td>\n",
       "      <td>Villa</td>\n",
       "      <td>Skälby</td>\n",
       "      <td>6225000</td>\n",
       "      <td>65526.0</td>\n",
       "      <td>95.0</td>\n",
       "      <td>4.0</td>\n",
       "    </tr>\n",
       "    <tr>\n",
       "      <th>1</th>\n",
       "      <td>Tröskvägen 101</td>\n",
       "      <td>Järfälla</td>\n",
       "      <td>Par/Rad/Kedjehus</td>\n",
       "      <td>Viksjö</td>\n",
       "      <td>4100000</td>\n",
       "      <td>30827.0</td>\n",
       "      <td>133.0</td>\n",
       "      <td>8.0</td>\n",
       "    </tr>\n",
       "    <tr>\n",
       "      <th>2</th>\n",
       "      <td>Legendvägen 13</td>\n",
       "      <td>Järfälla</td>\n",
       "      <td>Bostadsrättslägenhet</td>\n",
       "      <td>Kallhäll</td>\n",
       "      <td>1600000</td>\n",
       "      <td>39506.0</td>\n",
       "      <td>40.5</td>\n",
       "      <td>7.0</td>\n",
       "    </tr>\n",
       "    <tr>\n",
       "      <th>3</th>\n",
       "      <td>Vendelgränd 11</td>\n",
       "      <td>Järfälla</td>\n",
       "      <td>Bostadsrätt</td>\n",
       "      <td>Järfälla</td>\n",
       "      <td>5020000</td>\n",
       "      <td>36642.0</td>\n",
       "      <td>137.0</td>\n",
       "      <td>5.0</td>\n",
       "    </tr>\n",
       "    <tr>\n",
       "      <th>4</th>\n",
       "      <td>Ålstavägen 19E</td>\n",
       "      <td>Järfälla</td>\n",
       "      <td>Bostadsrättslägenhet</td>\n",
       "      <td>Barkarbystaden</td>\n",
       "      <td>2250000</td>\n",
       "      <td>32609.0</td>\n",
       "      <td>69.0</td>\n",
       "      <td>13.0</td>\n",
       "    </tr>\n",
       "  </tbody>\n",
       "</table>\n",
       "</div>"
      ],
      "text/plain": [
       "               gata city-kommun        type of boende            area  \\\n",
       "0  Grönstensvägen 1    Järfälla                 Villa          Skälby   \n",
       "1    Tröskvägen 101    Järfälla      Par/Rad/Kedjehus          Viksjö   \n",
       "2    Legendvägen 13    Järfälla  Bostadsrättslägenhet        Kallhäll   \n",
       "3    Vendelgränd 11    Järfälla           Bostadsrätt        Järfälla   \n",
       "4    Ålstavägen 19E    Järfälla  Bostadsrättslägenhet  Barkarbystaden   \n",
       "\n",
       "   slutpris  pris_per_m2   size  price_change  \n",
       "0   6225000      65526.0   95.0           4.0  \n",
       "1   4100000      30827.0  133.0           8.0  \n",
       "2   1600000      39506.0   40.5           7.0  \n",
       "3   5020000      36642.0  137.0           5.0  \n",
       "4   2250000      32609.0   69.0          13.0  "
      ]
     },
     "execution_count": 16,
     "metadata": {},
     "output_type": "execute_result"
    }
   ],
   "source": [
    "järfälla.head()"
   ]
  },
  {
   "cell_type": "code",
   "execution_count": 26,
   "metadata": {},
   "outputs": [
    {
     "data": {
      "text/plain": [
       "{0: [[70825.38, 6.52]],\n",
       " 1: [[43056.83, 6.95]],\n",
       " 2: [[58225.56, 12.62]],\n",
       " 3: [[57490.76, 10.02]],\n",
       " 4: [[69085.97, 15.35]],\n",
       " 5: [[90569.64, 10.07]],\n",
       " 6: [[35905.07, 7.97]]}"
      ]
     },
     "execution_count": 26,
     "metadata": {},
     "output_type": "execute_result"
    }
   ],
   "source": [
    "#############\n",
    "#avg price per m2 per kommun\n",
    "#############\n",
    "\n",
    "all_zones = [hammarby_s,sollentuna,solna ,sundbyberg,johhaneshov,kungsholmen,järfälla,]\n",
    "info = {} \n",
    "for idx,zone in enumerate(all_zones):\n",
    "    p_m2 = round(zone['pris_per_m2'].mean(),2)\n",
    "    p_c = round(zone['price_change'].mean(),2)\n",
    "    info.setdefault(idx, []).append([p_m2,p_c]) \n",
    "info"
   ]
  },
  {
   "cell_type": "code",
   "execution_count": null,
   "metadata": {},
   "outputs": [],
   "source": [
    "#CONTINUE....."
   ]
  },
  {
   "cell_type": "code",
   "execution_count": null,
   "metadata": {},
   "outputs": [],
   "source": []
  },
  {
   "cell_type": "code",
   "execution_count": null,
   "metadata": {},
   "outputs": [],
   "source": []
  },
  {
   "cell_type": "code",
   "execution_count": null,
   "metadata": {},
   "outputs": [],
   "source": []
  },
  {
   "cell_type": "code",
   "execution_count": null,
   "metadata": {},
   "outputs": [],
   "source": []
  },
  {
   "cell_type": "code",
   "execution_count": null,
   "metadata": {},
   "outputs": [],
   "source": []
  },
  {
   "cell_type": "code",
   "execution_count": 294,
   "metadata": {},
   "outputs": [
    {
     "data": {
      "text/html": [
       "<div>\n",
       "<style scoped>\n",
       "    .dataframe tbody tr th:only-of-type {\n",
       "        vertical-align: middle;\n",
       "    }\n",
       "\n",
       "    .dataframe tbody tr th {\n",
       "        vertical-align: top;\n",
       "    }\n",
       "\n",
       "    .dataframe thead th {\n",
       "        text-align: right;\n",
       "    }\n",
       "</style>\n",
       "<table border=\"1\" class=\"dataframe\">\n",
       "  <thead>\n",
       "    <tr style=\"text-align: right;\">\n",
       "      <th></th>\n",
       "      <th>slutpris</th>\n",
       "      <th>pris_per_m2</th>\n",
       "      <th>size</th>\n",
       "      <th>price_change</th>\n",
       "    </tr>\n",
       "  </thead>\n",
       "  <tbody>\n",
       "    <tr>\n",
       "      <th>count</th>\n",
       "      <td>3.800000e+01</td>\n",
       "      <td>38.000000</td>\n",
       "      <td>38.000000</td>\n",
       "      <td>29.000000</td>\n",
       "    </tr>\n",
       "    <tr>\n",
       "      <th>mean</th>\n",
       "      <td>3.733684e+06</td>\n",
       "      <td>68223.815789</td>\n",
       "      <td>54.802632</td>\n",
       "      <td>7.034483</td>\n",
       "    </tr>\n",
       "    <tr>\n",
       "      <th>std</th>\n",
       "      <td>3.567471e+05</td>\n",
       "      <td>6467.708011</td>\n",
       "      <td>2.851125</td>\n",
       "      <td>5.685085</td>\n",
       "    </tr>\n",
       "    <tr>\n",
       "      <th>min</th>\n",
       "      <td>3.250000e+06</td>\n",
       "      <td>55378.000000</td>\n",
       "      <td>50.000000</td>\n",
       "      <td>1.000000</td>\n",
       "    </tr>\n",
       "    <tr>\n",
       "      <th>25%</th>\n",
       "      <td>3.431250e+06</td>\n",
       "      <td>63325.500000</td>\n",
       "      <td>53.625000</td>\n",
       "      <td>3.000000</td>\n",
       "    </tr>\n",
       "    <tr>\n",
       "      <th>50%</th>\n",
       "      <td>3.600000e+06</td>\n",
       "      <td>68000.000000</td>\n",
       "      <td>55.250000</td>\n",
       "      <td>5.000000</td>\n",
       "    </tr>\n",
       "    <tr>\n",
       "      <th>75%</th>\n",
       "      <td>3.900000e+06</td>\n",
       "      <td>71975.000000</td>\n",
       "      <td>56.875000</td>\n",
       "      <td>10.000000</td>\n",
       "    </tr>\n",
       "    <tr>\n",
       "      <th>max</th>\n",
       "      <td>4.650000e+06</td>\n",
       "      <td>86111.000000</td>\n",
       "      <td>59.500000</td>\n",
       "      <td>26.000000</td>\n",
       "    </tr>\n",
       "  </tbody>\n",
       "</table>\n",
       "</div>"
      ],
      "text/plain": [
       "           slutpris   pris_per_m2       size  price_change\n",
       "count  3.800000e+01     38.000000  38.000000     29.000000\n",
       "mean   3.733684e+06  68223.815789  54.802632      7.034483\n",
       "std    3.567471e+05   6467.708011   2.851125      5.685085\n",
       "min    3.250000e+06  55378.000000  50.000000      1.000000\n",
       "25%    3.431250e+06  63325.500000  53.625000      3.000000\n",
       "50%    3.600000e+06  68000.000000  55.250000      5.000000\n",
       "75%    3.900000e+06  71975.000000  56.875000     10.000000\n",
       "max    4.650000e+06  86111.000000  59.500000     26.000000"
      ]
     },
     "execution_count": 294,
     "metadata": {},
     "output_type": "execute_result"
    }
   ],
   "source": [
    "x = hammarby_s[(hammarby_s['size']>=50) & (hammarby_s['size']<=60) ]\n",
    "x.describe()"
   ]
  },
  {
   "cell_type": "code",
   "execution_count": 304,
   "metadata": {},
   "outputs": [],
   "source": [
    "def dep_filter(zone,size=55,max_price=4000000, min_price = 3000000):\n",
    "    df = hemnet_generator(zone = zone,num_pages=50)\n",
    "    df = df[(df['size']>=size) & (df['slutpris']<=max_price) & (df['slutpris']>=min_price) ]\n",
    "    return df\n"
   ]
  },
  {
   "cell_type": "code",
   "execution_count": 305,
   "metadata": {},
   "outputs": [],
   "source": [
    "sollentuna = 18027\n",
    "solna = 18028\n",
    "sundbyberg = 18042\n",
    "hammarby_sjöstad =925972\n",
    "johhaneshov =473376\n",
    "kungsholmen = 925968\n",
    "\n",
    "sund = dep_filter(sundbyberg)\n",
    "sollentuna = dep_filter(sollentuna)\n",
    "solna = dep_filter(solna)\n",
    "hammar= dep_filter(hammarby_sjöstad)\n",
    "johhaneshov = dep_filter(johhaneshov)\n",
    "kungsholmen  = dep_filter(kungsholmen )\n"
   ]
  },
  {
   "cell_type": "code",
   "execution_count": 307,
   "metadata": {},
   "outputs": [
    {
     "data": {
      "text/plain": [
       "(117, 8)"
      ]
     },
     "execution_count": 307,
     "metadata": {},
     "output_type": "execute_result"
    }
   ],
   "source": [
    "sund.shape"
   ]
  },
  {
   "cell_type": "code",
   "execution_count": 310,
   "metadata": {},
   "outputs": [
    {
     "data": {
      "text/plain": [
       "(89, 8)"
      ]
     },
     "execution_count": 310,
     "metadata": {},
     "output_type": "execute_result"
    }
   ],
   "source": [
    "sollentuna.shape"
   ]
  },
  {
   "cell_type": "code",
   "execution_count": 315,
   "metadata": {},
   "outputs": [
    {
     "data": {
      "text/html": [
       "<div>\n",
       "<style scoped>\n",
       "    .dataframe tbody tr th:only-of-type {\n",
       "        vertical-align: middle;\n",
       "    }\n",
       "\n",
       "    .dataframe tbody tr th {\n",
       "        vertical-align: top;\n",
       "    }\n",
       "\n",
       "    .dataframe thead th {\n",
       "        text-align: right;\n",
       "    }\n",
       "</style>\n",
       "<table border=\"1\" class=\"dataframe\">\n",
       "  <thead>\n",
       "    <tr style=\"text-align: right;\">\n",
       "      <th></th>\n",
       "      <th>gata</th>\n",
       "      <th>city-kommun</th>\n",
       "      <th>type of boende</th>\n",
       "      <th>area</th>\n",
       "      <th>slutpris</th>\n",
       "      <th>pris_per_m2</th>\n",
       "      <th>size</th>\n",
       "      <th>price_change</th>\n",
       "    </tr>\n",
       "  </thead>\n",
       "  <tbody>\n",
       "    <tr>\n",
       "      <th>647</th>\n",
       "      <td>Lindhagensgatan 69, vån 1</td>\n",
       "      <td>Stockholm</td>\n",
       "      <td>Bostadsrättslägenhet</td>\n",
       "      <td>Kungsholmen</td>\n",
       "      <td>3800000</td>\n",
       "      <td>67857.0</td>\n",
       "      <td>56.0</td>\n",
       "      <td>15.0</td>\n",
       "    </tr>\n",
       "    <tr>\n",
       "      <th>668</th>\n",
       "      <td>Gjutargatan 6</td>\n",
       "      <td>Stockholm</td>\n",
       "      <td>Bostadsrättslägenhet</td>\n",
       "      <td>Kungsholmen</td>\n",
       "      <td>3975000</td>\n",
       "      <td>72273.0</td>\n",
       "      <td>55.0</td>\n",
       "      <td>NaN</td>\n",
       "    </tr>\n",
       "  </tbody>\n",
       "</table>\n",
       "</div>"
      ],
      "text/plain": [
       "                          gata city-kommun        type of boende         area  \\\n",
       "647  Lindhagensgatan 69, vån 1   Stockholm  Bostadsrättslägenhet  Kungsholmen   \n",
       "668              Gjutargatan 6   Stockholm  Bostadsrättslägenhet  Kungsholmen   \n",
       "\n",
       "     slutpris  pris_per_m2  size  price_change  \n",
       "647   3800000      67857.0  56.0          15.0  \n",
       "668   3975000      72273.0  55.0           NaN  "
      ]
     },
     "execution_count": 315,
     "metadata": {},
     "output_type": "execute_result"
    }
   ],
   "source": [
    "kungsholmen "
   ]
  },
  {
   "cell_type": "code",
   "execution_count": null,
   "metadata": {},
   "outputs": [],
   "source": []
  },
  {
   "cell_type": "code",
   "execution_count": null,
   "metadata": {},
   "outputs": [],
   "source": []
  },
  {
   "cell_type": "markdown",
   "metadata": {},
   "source": [
    "# Appendix"
   ]
  },
  {
   "cell_type": "code",
   "execution_count": null,
   "metadata": {},
   "outputs": [],
   "source": [
    "#Check floats:\n",
    "for n in df['size']:\n",
    "    if type(n) != float: \n",
    "        \n",
    "        print(n)"
   ]
  },
  {
   "cell_type": "code",
   "execution_count": 64,
   "metadata": {},
   "outputs": [],
   "source": [
    "# Conversion func 1\n",
    "#Temp solution: func 2\n",
    "# l = [i.split()[:2] for i in df['pris_per_m2'] ]\n",
    "# pris_per_m2 = [ int(''.join(i))for i in l]\n",
    "# len(pris_per_m2) "
   ]
  },
  {
   "cell_type": "code",
   "execution_count": null,
   "metadata": {},
   "outputs": [],
   "source": [
    "def group (df,g1,metric, mean=True, head= 15):\n",
    "    if mean:\n",
    "        return pd.DataFrame(df.groupby(g1)[metric].mean()).sort_values(by=metric,ascending=False).head(head)\n",
    "    else:\n",
    "        return pd.DataFrame(df.groupby(g1)[metric].sum()).sort_values(by=metric,ascending=False).head(head)"
   ]
  }
 ],
 "metadata": {
  "kernelspec": {
   "display_name": "Python 3",
   "language": "python",
   "name": "python3"
  },
  "language_info": {
   "codemirror_mode": {
    "name": "ipython",
    "version": 3
   },
   "file_extension": ".py",
   "mimetype": "text/x-python",
   "name": "python",
   "nbconvert_exporter": "python",
   "pygments_lexer": "ipython3",
   "version": "3.7.5"
  }
 },
 "nbformat": 4,
 "nbformat_minor": 2
}
