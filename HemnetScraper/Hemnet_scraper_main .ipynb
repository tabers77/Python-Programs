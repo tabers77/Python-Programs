{
 "cells": [
  {
   "cell_type": "markdown",
   "metadata": {},
   "source": [
    "# Phase 2 (recommendation links) - Ongoing"
   ]
  },
  {
   "cell_type": "markdown",
   "metadata": {},
   "source": [
    "## NEXT: \n",
    "- Choose the correct option for timers\n",
    "- remove timers\n",
    "- 1 hyperlinks\n",
    "- improve preprocessing \n",
    "- run in the brackground\n",
    "- 2 send by emaiL \n",
    "- https://stackoverflow.com/questions/46920243/how-to-configure-chromedriver-to-initiate-chrome-browser-in-headless-mode-throug "
   ]
  },
  {
   "cell_type": "code",
   "execution_count": 2,
   "metadata": {},
   "outputs": [],
   "source": [
    "# Dependencies\n",
    "\n",
    "import pandas as pd\n",
    "import matplotlib.pyplot as plt\n",
    "from selenium import webdriver \n",
    "import time\n",
    "import seaborn as sns \n",
    "from Hemnet import preprocessing,hemnet_generator, dep_filter,pct_change_metric\n",
    "from Scraper import url_extractor , scraper2\n",
    "from bs4 import BeautifulSoup\n",
    "import requests\n",
    "from itertools import chain \n",
    "import numpy as np \n",
    "import re  \n",
    "from flask import Flask, request,render_template\n",
    "import pickle"
   ]
  },
  {
   "cell_type": "code",
   "execution_count": 3,
   "metadata": {},
   "outputs": [],
   "source": [
    "#zones = [18027,18028,18042,17951]\n",
    "#for area_code in zones:\n",
    "    #pct_change_metric (area_code , num_pages= 50, metric = 'pris_per_m2')"
   ]
  },
  {
   "cell_type": "code",
   "execution_count": 4,
   "metadata": {},
   "outputs": [],
   "source": [
    "#links = []\n",
    "#for link in soup.findAll('a', attrs={'href': re.compile(\"^https://www.hemnet\")}):\n",
    "    #links.append(link.get('href') )"
   ]
  },
  {
   "cell_type": "markdown",
   "metadata": {},
   "source": [
    "# Model deployment"
   ]
  },
  {
   "cell_type": "markdown",
   "metadata": {},
   "source": [
    "## 1. Flask app "
   ]
  },
  {
   "cell_type": "markdown",
   "metadata": {},
   "source": [
    "## NEXT: \n",
    "\n",
    "- Continue with docker\n",
    "- learn more css and html\n",
    "- choose the same structure and improve the design\n",
    "- choose how to distribute the funtions \n",
    "- how to display tables\n",
    "- Add info to the pipeline\n",
    "- https://github.com/kishan0725/AJAX-Movie-Recommendation-System-with-Sentiment-Analysis"
   ]
  },
  {
   "cell_type": "code",
   "execution_count": 5,
   "metadata": {},
   "outputs": [],
   "source": [
    "# Create a Pickle file using serialization - This step is on the notebook  \n",
    "\n",
    "pickle_out1 = open(\"scraper2.pkl\",\"wb\") # this file should be on my folder \n",
    "pickle.dump(scraper2, pickle_out1) # classifier is the name of the model \n",
    "\n",
    "pickle_out2 = open(\"url_extractor.pkl\",\"wb\") \n",
    "pickle.dump(url_extractor, pickle_out2) \n",
    "\n",
    "pickle_out3 = open(\"pct_change_metric.pkl\",\"wb\") \n",
    "pickle.dump(pct_change_metric, pickle_out3) \n",
    "\n",
    "pickle_out1.close()\n",
    "pickle_out2.close()\n",
    "pickle_out3.close()"
   ]
  },
  {
   "cell_type": "code",
   "execution_count": null,
   "metadata": {},
   "outputs": [
    {
     "name": "stdout",
     "output_type": "stream",
     "text": [
      " * Serving Flask app \"__main__\" (lazy loading)\n",
      " * Environment: production\n",
      "\u001b[31m   WARNING: This is a development server. Do not use it in a production deployment.\u001b[0m\n",
      "\u001b[2m   Use a production WSGI server instead.\u001b[0m\n",
      " * Debug mode: off\n"
     ]
    },
    {
     "name": "stderr",
     "output_type": "stream",
     "text": [
      " * Running on http://127.0.0.1:5000/ (Press CTRL+C to quit)\n",
      "127.0.0.1 - - [30/Nov/2020 11:57:18] \"\u001b[37mGET / HTTP/1.1\u001b[0m\" 200 -\n"
     ]
    },
    {
     "name": "stdout",
     "output_type": "stream",
     "text": [
      "INITIAL EXTRACTION...\n",
      "DONE WITH INITIAL EXTRACTION\n",
      "STEP 1: SCRAPING - BASELINE...\n",
      "STEP 2: GENERATING NEW FEATURES...\n",
      "STEP 3: OBTAINING HISTORICAL DATA TO CALCULATE PREDICTED PRICE...\n",
      "STEP 4: GENERATING LAST FEATURES...\n",
      "STEP 2.1: CALCULATING DISTANCES\n",
      "CALCULATING FOR Margreteborgsvägen 8...\n",
      "CALCULATING FOR Frestavägen 24...\n",
      "CALCULATING FOR Turebergs Allé 19...\n",
      "CALCULATING FOR Margreteborgsvägen 23...\n",
      "CALCULATING FOR Flygarevägen 28...\n",
      "CALCULATING FOR Turebergs allé 30 5 tr...\n",
      "CALCULATING FOR Turebergs allé 22...\n"
     ]
    },
    {
     "name": "stderr",
     "output_type": "stream",
     "text": [
      "[2020-11-30 12:02:29,938] ERROR in app: Exception on /predict [GET]\n",
      "Traceback (most recent call last):\n",
      "  File \"/Users/Tabe/opt/miniconda3/envs/hemnet_env/lib/python3.7/site-packages/flask/app.py\", line 2447, in wsgi_app\n",
      "    response = self.full_dispatch_request()\n",
      "  File \"/Users/Tabe/opt/miniconda3/envs/hemnet_env/lib/python3.7/site-packages/flask/app.py\", line 1952, in full_dispatch_request\n",
      "    rv = self.handle_user_exception(e)\n",
      "  File \"/Users/Tabe/opt/miniconda3/envs/hemnet_env/lib/python3.7/site-packages/flask/app.py\", line 1821, in handle_user_exception\n",
      "    reraise(exc_type, exc_value, tb)\n",
      "  File \"/Users/Tabe/opt/miniconda3/envs/hemnet_env/lib/python3.7/site-packages/flask/_compat.py\", line 39, in reraise\n",
      "    raise value\n",
      "  File \"/Users/Tabe/opt/miniconda3/envs/hemnet_env/lib/python3.7/site-packages/flask/app.py\", line 1950, in full_dispatch_request\n",
      "    rv = self.dispatch_request()\n",
      "  File \"/Users/Tabe/opt/miniconda3/envs/hemnet_env/lib/python3.7/site-packages/flask/app.py\", line 1936, in dispatch_request\n",
      "    return self.view_functions[rule.endpoint](**req.view_args)\n",
      "  File \"<ipython-input-6-4fa285533a03>\", line 34, in predict\n",
      "    df = scraper2(current_url = current_url_new ,relevant_only = relevant_only ,sold_age = sold_age,loan_limit = int(loan_limit), dest_street = dest_street)\n",
      "  File \"/Users/Tabe/Desktop/Courses/Data-Science /Test-Projects/Python-Projects/HemnetScraper/Scraper.py\", line 222, in scraper2\n",
      "    df_new['distance_to_work'] =  df_new['street'].apply(lambda street:  calculate_time (start = street , dest = dest_street) )\n",
      "  File \"/Users/Tabe/opt/miniconda3/envs/hemnet_env/lib/python3.7/site-packages/pandas/core/series.py\", line 4212, in apply\n",
      "    mapped = lib.map_infer(values, f, convert=convert_dtype)\n",
      "  File \"pandas/_libs/lib.pyx\", line 2403, in pandas._libs.lib.map_infer\n",
      "  File \"/Users/Tabe/Desktop/Courses/Data-Science /Test-Projects/Python-Projects/HemnetScraper/Scraper.py\", line 222, in <lambda>\n",
      "    df_new['distance_to_work'] =  df_new['street'].apply(lambda street:  calculate_time (start = street , dest = dest_street) )\n",
      "  File \"/Users/Tabe/Desktop/Courses/Data-Science /Test-Projects/Python-Projects/HemnetScraper/Scraper.py\", line 109, in calculate_time\n",
      "    element.click()\n",
      "  File \"/Users/Tabe/opt/miniconda3/envs/hemnet_env/lib/python3.7/site-packages/selenium/webdriver/remote/webelement.py\", line 80, in click\n",
      "    self._execute(Command.CLICK_ELEMENT)\n",
      "  File \"/Users/Tabe/opt/miniconda3/envs/hemnet_env/lib/python3.7/site-packages/selenium/webdriver/remote/webelement.py\", line 633, in _execute\n",
      "    return self._parent.execute(command, params)\n",
      "  File \"/Users/Tabe/opt/miniconda3/envs/hemnet_env/lib/python3.7/site-packages/selenium/webdriver/remote/webdriver.py\", line 321, in execute\n",
      "    self.error_handler.check_response(response)\n",
      "  File \"/Users/Tabe/opt/miniconda3/envs/hemnet_env/lib/python3.7/site-packages/selenium/webdriver/remote/errorhandler.py\", line 242, in check_response\n",
      "    raise exception_class(message, screen, stacktrace)\n",
      "selenium.common.exceptions.ElementClickInterceptedException: Message: element click intercepted: Element <iframe class=\"widget-consent-frame\" src=\"//consent.google.com?uxe=4423402&amp;continue=https%3A%2F%2Fwww.google.com%2Fmaps&amp;pc=m&amp;origin=https%3A%2F%2Fwww.google.com&amp;if=1&amp;gl=SE&amp;hl=en\" style=\"max-height: 550px;\" cd_frame_id_=\"9101a0ae5ae4d5720519045891272ee2\"></iframe> is not clickable at point (847, 525). Other element would receive the click: <div jstcache=\"911\" aria-labelledby=\"snackbar-message\" role=\"status\" class=\"snackbar noprint snackbar-open\" jsaction=\"mouseover:snackbar.hover;mouseout:snackbar.hover\" jsan=\"t-6wDfbTi4kNs,7.snackbar,7.snackbar-open,7.noprint,0.aria-labelledby,0.role,22.jsaction\">...</div>\n",
      "  (Session info: chrome=87.0.4280.67)\n",
      "\n",
      "127.0.0.1 - - [30/Nov/2020 12:02:29] \"\u001b[35m\u001b[1mGET /predict?area=sollentuna&keys=&min_year=1990&relevant_only=yes&sold_age=6m&loan_limit=2900000&dest_street=mariatorget HTTP/1.1\u001b[0m\" 500 -\n"
     ]
    }
   ],
   "source": [
    "# 1 create the flask env\n",
    "app = Flask(__name__)\n",
    "#Swagger(app)\n",
    "\n",
    "# 2 Open the file \n",
    "pickle_in1 = open(\"scraper2.pkl\",\"rb\")\n",
    "scraper2 = pickle.load(pickle_in1)\n",
    "\n",
    "pickle_in2 = open(\"url_extractor.pkl\",\"rb\")\n",
    "url_extractor = pickle.load(pickle_in2)\n",
    "\n",
    "pickle_in3 = open(\"pct_change_metric.pkl\",\"rb\")\n",
    "pct_change_metric = pickle.load(pickle_in3)\n",
    "\n",
    "@app.route('/')\n",
    "def welcome():\n",
    "    return render_template('index.html')\n",
    "\n",
    "@app.route('/predict',methods=[\"GET\"])\n",
    "def predict():\n",
    "    \n",
    "    # Remember to add new parameters here: \n",
    "    area = request.args.get(\"area\")\n",
    "    keys = request.args.get(\"keys\")\n",
    "    min_year = request.args.get(\"min_year\")\n",
    "    current_url = request.args.get(\"current_url\")\n",
    "    relevant_only = request.args.get(\"relevant_only\")\n",
    "    sold_age = request.args.get(\"sold_age\")\n",
    "    loan_limit = request.args.get(\"loan_limit\")\n",
    "    dest_street = request.args.get(\"dest_street\") # test \n",
    "\n",
    "    current_url_new = url_extractor(area, keys, min_year )\n",
    "\n",
    "    df = scraper2(current_url = current_url_new ,relevant_only = relevant_only ,sold_age = sold_age,loan_limit = int(loan_limit), dest_street = dest_street)\n",
    "\n",
    "    \n",
    "    return render_template('view.html',tables=[df.to_html(classes ='scraper')],\n",
    "    titles = ['na', 'Results'])\n",
    "\n",
    "@app.route('/comparison',methods=[\"GET\"])\n",
    "def compare_pct():\n",
    " \n",
    "    # Remember to add new parameters here: \n",
    "     \n",
    "    area = request.args.get(\"area\")\n",
    "    num_pages = request.args.get(\"num_pages\")\n",
    "    metric = request.args.get(\"metric\")\n",
    "\n",
    "    output = pct_change_metric(area = area, num_pages = num_pages , metric = metric )\n",
    "\n",
    "    return output\n",
    "\n",
    "if __name__=='__main__':\n",
    "    app.run()\n",
    "    \n",
    "\n",
    "# if __name__=='__main__':\n",
    "#     app.run(host='0.0.0.0',port=8000)"
   ]
  },
  {
   "cell_type": "markdown",
   "metadata": {},
   "source": [
    "## 2. Docker\n",
    "https://www.youtube.com/watch?v=cDwsaQoP4Lk&list=PLZoTAELRMXVNKtpy0U_Mx9N26w8n0hIbs&index=6 "
   ]
  },
  {
   "cell_type": "code",
   "execution_count": null,
   "metadata": {},
   "outputs": [],
   "source": []
  },
  {
   "cell_type": "code",
   "execution_count": null,
   "metadata": {},
   "outputs": [],
   "source": []
  },
  {
   "cell_type": "markdown",
   "metadata": {},
   "source": [
    "# GitHub pull request"
   ]
  },
  {
   "cell_type": "code",
   "execution_count": null,
   "metadata": {},
   "outputs": [],
   "source": [
    "! pwd"
   ]
  },
  {
   "cell_type": "code",
   "execution_count": null,
   "metadata": {},
   "outputs": [],
   "source": [
    "import datetime\n",
    "\n",
    "# 2 Pull request\n",
    "! git pull\n",
    "\n",
    "# 3\n",
    "now = datetime.datetime.now()\n",
    "commit_message = \"Last run on \" + str(now)\n",
    "! cd '/Users/Tabe/Desktop/Courses/Data-Science /Test-Projects/Python-Projects/HemnetScraper'\n",
    "! echo $commit_message > commit_message.txt\n",
    "! git add . \n",
    "! git commit -F commit_message.txt\n",
    "! git push origin master # here I choose either master or branch \n",
    "print ('Done!')"
   ]
  },
  {
   "cell_type": "code",
   "execution_count": null,
   "metadata": {},
   "outputs": [],
   "source": []
  }
 ],
 "metadata": {
  "kernelspec": {
   "display_name": "hemnet_env",
   "language": "python",
   "name": "hemnet_env"
  },
  "language_info": {
   "codemirror_mode": {
    "name": "ipython",
    "version": 3
   },
   "file_extension": ".py",
   "mimetype": "text/x-python",
   "name": "python",
   "nbconvert_exporter": "python",
   "pygments_lexer": "ipython3",
   "version": "3.7.9"
  }
 },
 "nbformat": 4,
 "nbformat_minor": 2
}
