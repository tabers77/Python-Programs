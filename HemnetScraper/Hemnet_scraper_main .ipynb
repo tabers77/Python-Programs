{
 "cells": [
  {
   "cell_type": "markdown",
   "metadata": {},
   "source": [
    "# Phase 2 (recommendation links) - Ongoing"
   ]
  },
  {
   "cell_type": "markdown",
   "metadata": {},
   "source": [
    "## NEXT: \n",
    "- 1 hyperlinks\n",
    "- create a functions to calcualte precentage of change by area \n",
    "- 2 send by email"
   ]
  },
  {
   "cell_type": "code",
   "execution_count": 1,
   "metadata": {},
   "outputs": [],
   "source": [
    "# Dependencies\n",
    "\n",
    "import pandas as pd\n",
    "import matplotlib.pyplot as plt\n",
    "from selenium import webdriver \n",
    "import time\n",
    "import seaborn as sns \n",
    "from Hemnet import preprocessing,hemnet_generator, dep_filter,pct_change_metric\n",
    "from Scraper import url_extractor , scraper2\n",
    "from bs4 import BeautifulSoup\n",
    "import requests\n",
    "from itertools import chain \n",
    "import numpy as np \n",
    "import re  \n",
    "from flask import Flask, request,render_template\n",
    "import pickle"
   ]
  },
  {
   "cell_type": "code",
   "execution_count": 4,
   "metadata": {},
   "outputs": [
    {
     "data": {
      "text/html": [
       "<div>\n",
       "<style scoped>\n",
       "    .dataframe tbody tr th:only-of-type {\n",
       "        vertical-align: middle;\n",
       "    }\n",
       "\n",
       "    .dataframe tbody tr th {\n",
       "        vertical-align: top;\n",
       "    }\n",
       "\n",
       "    .dataframe thead th {\n",
       "        text-align: right;\n",
       "    }\n",
       "</style>\n",
       "<table border=\"1\" class=\"dataframe\">\n",
       "  <thead>\n",
       "    <tr style=\"text-align: right;\">\n",
       "      <th></th>\n",
       "      <th>city-kommun</th>\n",
       "      <th>area</th>\n",
       "      <th>street</th>\n",
       "      <th>label</th>\n",
       "      <th>ap_size</th>\n",
       "      <th>number_of_rooms</th>\n",
       "      <th>start_price</th>\n",
       "      <th>predicted_price</th>\n",
       "      <th>expected_price</th>\n",
       "      <th>price_per_m2</th>\n",
       "      <th>links</th>\n",
       "    </tr>\n",
       "  </thead>\n",
       "  <tbody>\n",
       "    <tr>\n",
       "      <th>0</th>\n",
       "      <td>Solna</td>\n",
       "      <td>Solna Järvastaden</td>\n",
       "      <td>Fridensborgsvägen 159, 2tr</td>\n",
       "      <td>possible</td>\n",
       "      <td>41.0</td>\n",
       "      <td>2</td>\n",
       "      <td>2395000</td>\n",
       "      <td>2.764192e+06</td>\n",
       "      <td>2.640409e+06</td>\n",
       "      <td>58414.634146</td>\n",
       "      <td>https://www.hemnet.se/bostad/lagenhet-2rum-sol...</td>\n",
       "    </tr>\n",
       "    <tr>\n",
       "      <th>1</th>\n",
       "      <td>Solna</td>\n",
       "      <td>Ulriksdal</td>\n",
       "      <td>Kolonnvägen 56, HÖGST UPP!</td>\n",
       "      <td>possible</td>\n",
       "      <td>46.0</td>\n",
       "      <td>2</td>\n",
       "      <td>2495000</td>\n",
       "      <td>2.879607e+06</td>\n",
       "      <td>2.962410e+06</td>\n",
       "      <td>54239.130435</td>\n",
       "      <td>https://www.hemnet.se/bostad/lagenhet-2rum-ulr...</td>\n",
       "    </tr>\n",
       "    <tr>\n",
       "      <th>3</th>\n",
       "      <td>Solna</td>\n",
       "      <td>Solna Arenastaden</td>\n",
       "      <td>Evenemangsgatan 34, vån 4</td>\n",
       "      <td>possible</td>\n",
       "      <td>43.0</td>\n",
       "      <td>1</td>\n",
       "      <td>2495000</td>\n",
       "      <td>2.879607e+06</td>\n",
       "      <td>2.769209e+06</td>\n",
       "      <td>58023.255814</td>\n",
       "      <td>https://www.hemnet.se/bostad/lagenhet-1rum-sol...</td>\n",
       "    </tr>\n",
       "    <tr>\n",
       "      <th>4</th>\n",
       "      <td>Solna</td>\n",
       "      <td>Solna Huvudsta</td>\n",
       "      <td>Storgatan 70B</td>\n",
       "      <td>possible</td>\n",
       "      <td>52.0</td>\n",
       "      <td>2</td>\n",
       "      <td>2495000</td>\n",
       "      <td>2.879607e+06</td>\n",
       "      <td>3.348811e+06</td>\n",
       "      <td>47980.769231</td>\n",
       "      <td>https://www.hemnet.se/bostad/lagenhet-2rum-sol...</td>\n",
       "    </tr>\n",
       "    <tr>\n",
       "      <th>11</th>\n",
       "      <td>Solna</td>\n",
       "      <td>Frösunda</td>\n",
       "      <td>Anders Lundströms Gata 12</td>\n",
       "      <td>possible</td>\n",
       "      <td>53.8</td>\n",
       "      <td>1</td>\n",
       "      <td>2495000</td>\n",
       "      <td>2.879607e+06</td>\n",
       "      <td>3.464732e+06</td>\n",
       "      <td>46375.464684</td>\n",
       "      <td>https://www.hemnet.se/bostad/lagenhet-1rum-fro...</td>\n",
       "    </tr>\n",
       "    <tr>\n",
       "      <th>13</th>\n",
       "      <td>Solna</td>\n",
       "      <td>Västra Skogen</td>\n",
       "      <td>Armégatan 36D</td>\n",
       "      <td>possible</td>\n",
       "      <td>48.0</td>\n",
       "      <td>2</td>\n",
       "      <td>2595000</td>\n",
       "      <td>2.995022e+06</td>\n",
       "      <td>3.091210e+06</td>\n",
       "      <td>54062.500000</td>\n",
       "      <td>https://www.hemnet.se/bostad/lagenhet-2rum-vas...</td>\n",
       "    </tr>\n",
       "    <tr>\n",
       "      <th>7</th>\n",
       "      <td>Solna</td>\n",
       "      <td>Solna Ulriksdal</td>\n",
       "      <td>Drottning Kristinas Esplanad 63</td>\n",
       "      <td>possible</td>\n",
       "      <td>52.0</td>\n",
       "      <td>2</td>\n",
       "      <td>2595000</td>\n",
       "      <td>2.995022e+06</td>\n",
       "      <td>3.348811e+06</td>\n",
       "      <td>49903.846154</td>\n",
       "      <td>https://www.hemnet.se/bostad/lagenhet-2rum-sol...</td>\n",
       "    </tr>\n",
       "    <tr>\n",
       "      <th>14</th>\n",
       "      <td>Solna</td>\n",
       "      <td>Arenastaden</td>\n",
       "      <td>Evenemangsgatan 30, 14tr</td>\n",
       "      <td>less possible</td>\n",
       "      <td>43.0</td>\n",
       "      <td>2</td>\n",
       "      <td>2695000</td>\n",
       "      <td>3.110437e+06</td>\n",
       "      <td>2.769209e+06</td>\n",
       "      <td>62674.418605</td>\n",
       "      <td>https://www.hemnet.se/bostad/lagenhet-2rum-are...</td>\n",
       "    </tr>\n",
       "    <tr>\n",
       "      <th>12</th>\n",
       "      <td>Solna</td>\n",
       "      <td>Järvastaden</td>\n",
       "      <td>Fridensborgsvägen 139, 3 tr</td>\n",
       "      <td>less possible</td>\n",
       "      <td>45.0</td>\n",
       "      <td>15</td>\n",
       "      <td>2695000</td>\n",
       "      <td>3.110437e+06</td>\n",
       "      <td>2.898010e+06</td>\n",
       "      <td>59888.888889</td>\n",
       "      <td>https://www.hemnet.se/bostad/lagenhet-1,5rum-j...</td>\n",
       "    </tr>\n",
       "    <tr>\n",
       "      <th>15</th>\n",
       "      <td>Solna</td>\n",
       "      <td>Huvudsta</td>\n",
       "      <td>Lundagatan 1B</td>\n",
       "      <td>less possible</td>\n",
       "      <td>52.0</td>\n",
       "      <td>25</td>\n",
       "      <td>2725000</td>\n",
       "      <td>3.145061e+06</td>\n",
       "      <td>3.348811e+06</td>\n",
       "      <td>52403.846154</td>\n",
       "      <td>https://www.hemnet.se/bostad/lagenhet-2,5rum-h...</td>\n",
       "    </tr>\n",
       "  </tbody>\n",
       "</table>\n",
       "</div>"
      ],
      "text/plain": [
       "   city-kommun               area                           street  \\\n",
       "0        Solna  Solna Järvastaden       Fridensborgsvägen 159, 2tr   \n",
       "1        Solna          Ulriksdal       Kolonnvägen 56, HÖGST UPP!   \n",
       "3        Solna  Solna Arenastaden        Evenemangsgatan 34, vån 4   \n",
       "4        Solna     Solna Huvudsta                    Storgatan 70B   \n",
       "11       Solna           Frösunda        Anders Lundströms Gata 12   \n",
       "13       Solna      Västra Skogen                    Armégatan 36D   \n",
       "7        Solna    Solna Ulriksdal  Drottning Kristinas Esplanad 63   \n",
       "14       Solna        Arenastaden         Evenemangsgatan 30, 14tr   \n",
       "12       Solna        Järvastaden      Fridensborgsvägen 139, 3 tr   \n",
       "15       Solna           Huvudsta                    Lundagatan 1B   \n",
       "\n",
       "            label  ap_size  number_of_rooms  start_price  predicted_price  \\\n",
       "0        possible     41.0                2      2395000     2.764192e+06   \n",
       "1        possible     46.0                2      2495000     2.879607e+06   \n",
       "3        possible     43.0                1      2495000     2.879607e+06   \n",
       "4        possible     52.0                2      2495000     2.879607e+06   \n",
       "11       possible     53.8                1      2495000     2.879607e+06   \n",
       "13       possible     48.0                2      2595000     2.995022e+06   \n",
       "7        possible     52.0                2      2595000     2.995022e+06   \n",
       "14  less possible     43.0                2      2695000     3.110437e+06   \n",
       "12  less possible     45.0               15      2695000     3.110437e+06   \n",
       "15  less possible     52.0               25      2725000     3.145061e+06   \n",
       "\n",
       "    expected_price  price_per_m2  \\\n",
       "0     2.640409e+06  58414.634146   \n",
       "1     2.962410e+06  54239.130435   \n",
       "3     2.769209e+06  58023.255814   \n",
       "4     3.348811e+06  47980.769231   \n",
       "11    3.464732e+06  46375.464684   \n",
       "13    3.091210e+06  54062.500000   \n",
       "7     3.348811e+06  49903.846154   \n",
       "14    2.769209e+06  62674.418605   \n",
       "12    2.898010e+06  59888.888889   \n",
       "15    3.348811e+06  52403.846154   \n",
       "\n",
       "                                                links  \n",
       "0   https://www.hemnet.se/bostad/lagenhet-2rum-sol...  \n",
       "1   https://www.hemnet.se/bostad/lagenhet-2rum-ulr...  \n",
       "3   https://www.hemnet.se/bostad/lagenhet-1rum-sol...  \n",
       "4   https://www.hemnet.se/bostad/lagenhet-2rum-sol...  \n",
       "11  https://www.hemnet.se/bostad/lagenhet-1rum-fro...  \n",
       "13  https://www.hemnet.se/bostad/lagenhet-2rum-vas...  \n",
       "7   https://www.hemnet.se/bostad/lagenhet-2rum-sol...  \n",
       "14  https://www.hemnet.se/bostad/lagenhet-2rum-are...  \n",
       "12  https://www.hemnet.se/bostad/lagenhet-1,5rum-j...  \n",
       "15  https://www.hemnet.se/bostad/lagenhet-2,5rum-h...  "
      ]
     },
     "execution_count": 4,
     "metadata": {},
     "output_type": "execute_result"
    }
   ],
   "source": [
    "df.head(10)"
   ]
  },
  {
   "cell_type": "code",
   "execution_count": 5,
   "metadata": {},
   "outputs": [],
   "source": [
    "#zones = [18027,18028,18042,17951]\n",
    "#for area_code in zones:\n",
    "    #pct_change_metric (area_code , num_pages= 50, metric = 'pris_per_m2')"
   ]
  },
  {
   "cell_type": "code",
   "execution_count": 340,
   "metadata": {},
   "outputs": [],
   "source": [
    "links = []\n",
    "for link in soup.findAll('a', attrs={'href': re.compile(\"^https://www.hemnet\")}):\n",
    "    links.append(link.get('href') )"
   ]
  },
  {
   "cell_type": "code",
   "execution_count": 341,
   "metadata": {},
   "outputs": [
    {
     "data": {
      "text/plain": [
       "['https://www.hemnet.se/bostad/lagenhet-3rum-tureberg-sollentuna-kommun-engelbrekts-vag-73-c,-bv-17067632',\n",
       " 'https://www.hemnet.se/bostad/lagenhet-2rum-edsangen-sollentuna-kommun-frestavagen-32-17066611',\n",
       " 'https://www.hemnet.se/bostad/lagenhet-2rum-centrala-sollentuna-sollentuna-kommun-attundagrand-5-17066877',\n",
       " 'https://www.hemnet.se/bostad/lagenhet-2rum-tureberg-sollentuna-kommun-turebergs-alle-30-5-tr-17064758',\n",
       " 'https://www.hemnet.se/bostad/lagenhet-2rum-edsangen-sollentuna-kommun-frestavagen-28,-1tr-16960875',\n",
       " 'https://www.hemnet.se/bostad/lagenhet-2rum-edsberg-landsnora-sollentuna-kommun-rudbecks-vag-147-17054881',\n",
       " 'https://www.hemnet.se/bostad/lagenhet-2rum-viby-sollentuna-kommun-lantgardsvagen-87-17048839',\n",
       " 'https://www.hemnet.se/bostad/lagenhet-1rum-silverdal-sollentuna-kommun-margreteborgsvagen-6-17047849',\n",
       " 'https://www.hemnet.se/bostad/lagenhet-2rum-centrala-sollentuna-sollentuna-kommun-turebergs-alle-41-17047447',\n",
       " 'https://www.hemnet.se/bostad/lagenhet-2rum-haggvik-sollentuna-kommun-minervavagen-16,-van-3-3-16961741',\n",
       " 'https://www.hemnet.se/bostad/lagenhet-2rum-haggvik-sollentuna-kommun-minervavagen-28-16849896',\n",
       " 'https://www.hemnet.se/bostad/lagenhet-2rum-edsberg-landsnora-sollentuna-kommun-rudbecks-vag-149-16973567',\n",
       " 'https://www.hemnet.se/bostad/lagenhet-2rum-sollentuna-centrum-sollentuna-kommun-sollentunavagen-156-16370304',\n",
       " 'https://www.hemnet.se/bostad/lagenhet-2rum-tureberg-sollentuna-kommun-turebergs-alle-24-17021902',\n",
       " 'https://www.hemnet.se/bostad/lagenhet-2rum-sollentuna-kommun-hovslagarevagen-19-15688156',\n",
       " 'https://www.hemnet.se/bostad/lagenhet-2rum-silverdal-sollentuna-kommun-margreteborgsvagen-8-17014117',\n",
       " 'https://www.hemnet.se/bostad/lagenhet-1,5rum-sollentuna-centrum-sollentuna-kommun-kung-agnes-vag-22-16221858',\n",
       " 'https://www.hemnet.se/bostad/lagenhet-1,5rum-sollentuna-centrum-sollentuna-kommun-kung-agnes-vag-22-16221844',\n",
       " 'https://www.hemnet.se/bostad/lagenhet-2rum-sollentuna-edsangen-sollentuna-kommun-hovslagarevagen-23-16953016',\n",
       " 'https://www.hemnet.se/bostad/lagenhet-2rum-haggvik-strand-sollentuna-kommun-minervavagen-28-16371024',\n",
       " 'https://www.hemnet.se/bostad/lagenhet-2rum-viby-sollentuna-kommun-ravgardsvagen-17,-2-rok,-59-kvm-16931655']"
      ]
     },
     "execution_count": 341,
     "metadata": {},
     "output_type": "execute_result"
    }
   ],
   "source": [
    "links"
   ]
  },
  {
   "cell_type": "markdown",
   "metadata": {},
   "source": [
    "# Model deployment"
   ]
  },
  {
   "cell_type": "markdown",
   "metadata": {},
   "source": [
    "## 1. Flask app "
   ]
  },
  {
   "cell_type": "markdown",
   "metadata": {},
   "source": [
    "## NEXT: \n",
    "\n",
    "- Continue with docker\n",
    "- learn more css and html\n",
    "- choose the same structure and improve the design\n",
    "- choose how to distribute the funtions \n",
    "- how to display tables\n",
    "- Add info to the pipeline\n",
    "- https://github.com/kishan0725/AJAX-Movie-Recommendation-System-with-Sentiment-Analysis"
   ]
  },
  {
   "cell_type": "code",
   "execution_count": null,
   "metadata": {},
   "outputs": [],
   "source": [
    "######### \n",
    "#Procedure\n",
    "######### \n",
    "\n",
    "# 1 Install miniconda https://docs.conda.io/en/latest/miniconda.html DONE!!!\n",
    "\n",
    "# 2 Follow this guide https://www.inovex.de/blog/working-efficiently-with-jupyter-notebooks/\n",
    "# 2.1 https://github.com/FlorianWilhelm/boston_housing , \n",
    "#https://towardsdatascience.com/a-guide-to-conda-environments-bc6180fc533\n",
    "\n",
    "\n",
    "\n",
    "# 3 Test to create a project and put it on a virtual environment\n",
    "#1 create a new conda env ---> install git --->  clone the repo ----> run the program using. the env\n",
    "#----> install the packages ---> delete the pachages appearing in pip freeze ---> generate requirements.txt\n",
    "#---> put hemnet as one folder ---> repaeat the process for data analyst \n",
    "# https://stackoverflow.com/questions/46767012/conda-list-shows-a-package-but-cannot-import-it\n",
    "\n",
    "\n",
    "\n",
    "# 4 Uninstall anaconda https://docs.anaconda.com/anaconda/install/uninstall/"
   ]
  },
  {
   "cell_type": "code",
   "execution_count": 6,
   "metadata": {},
   "outputs": [],
   "source": [
    "# Create a Pickle file using serialization - This step is on the notebook  \n",
    "\n",
    "pickle_out1 = open(\"scraper2.pkl\",\"wb\") # this file should be on my folder \n",
    "pickle.dump(scraper2, pickle_out1) # classifier is the name of the model \n",
    "\n",
    "pickle_out2 = open(\"url_extractor.pkl\",\"wb\") \n",
    "pickle.dump(url_extractor, pickle_out2) \n",
    "\n",
    "pickle_out3 = open(\"pct_change_metric.pkl\",\"wb\") \n",
    "pickle.dump(pct_change_metric, pickle_out3) \n",
    "\n",
    "pickle_out1.close()\n",
    "pickle_out2.close()\n",
    "pickle_out3.close()"
   ]
  },
  {
   "cell_type": "code",
   "execution_count": 7,
   "metadata": {},
   "outputs": [
    {
     "name": "stdout",
     "output_type": "stream",
     "text": [
      " * Serving Flask app \"__main__\" (lazy loading)\n",
      " * Environment: production\n",
      "\u001b[31m   WARNING: This is a development server. Do not use it in a production deployment.\u001b[0m\n",
      "\u001b[2m   Use a production WSGI server instead.\u001b[0m\n",
      " * Debug mode: off\n"
     ]
    },
    {
     "name": "stderr",
     "output_type": "stream",
     "text": [
      " * Running on http://127.0.0.1:5000/ (Press CTRL+C to quit)\n",
      "127.0.0.1 - - [11/Nov/2020 21:26:03] \"\u001b[37mGET / HTTP/1.1\u001b[0m\" 200 -\n",
      "127.0.0.1 - - [11/Nov/2020 21:26:03] \"\u001b[37mGET /static/css/style.css HTTP/1.1\u001b[0m\" 200 -\n"
     ]
    },
    {
     "name": "stdout",
     "output_type": "stream",
     "text": [
      "INITIAL EXTRACTION...\n",
      "DONE WITH INITIAL EXTRACTION\n",
      "STEP 1: SCRAPING...\n",
      "STEP 2: GENERATING NEW FEATURES...\n",
      "STEP 3: OBTAINING HISTORICAL DATA TO CALCULATE PREDICTED PRICE...\n"
     ]
    },
    {
     "name": "stderr",
     "output_type": "stream",
     "text": [
      "127.0.0.1 - - [11/Nov/2020 21:27:26] \"\u001b[37mGET /predict?area=sollentuna&keys=&min_year=1990&relevant_only=yes&sold_age=3m&loan_limit=3000000 HTTP/1.1\u001b[0m\" 200 -\n",
      "127.0.0.1 - - [11/Nov/2020 21:27:26] \"\u001b[37mGET /static/style_x.css HTTP/1.1\u001b[0m\" 200 -\n"
     ]
    },
    {
     "name": "stdout",
     "output_type": "stream",
     "text": [
      "STEP 4: GENERATING LAST FEATURES...\n",
      "DONE\n"
     ]
    }
   ],
   "source": [
    "# 1 create the flask env\n",
    "app = Flask(__name__)\n",
    "#Swagger(app)\n",
    "\n",
    "# 2 Open the file \n",
    "pickle_in1 = open(\"scraper2.pkl\",\"rb\")\n",
    "scraper2 = pickle.load(pickle_in1)\n",
    "\n",
    "pickle_in2 = open(\"url_extractor.pkl\",\"rb\")\n",
    "url_extractor = pickle.load(pickle_in2)\n",
    "\n",
    "pickle_in3 = open(\"pct_change_metric.pkl\",\"rb\")\n",
    "pct_change_metric = pickle.load(pickle_in3)\n",
    "\n",
    "@app.route('/')\n",
    "def welcome():\n",
    "    return render_template('index.html')\n",
    "\n",
    "@app.route('/predict',methods=[\"GET\"])\n",
    "def predict():\n",
    "    \n",
    "    # Remember to add new parameters here: \n",
    "    area = request.args.get(\"area\")\n",
    "    keys = request.args.get(\"keys\")\n",
    "    min_year = request.args.get(\"min_year\")\n",
    "    current_url = request.args.get(\"current_url\")\n",
    "    relevant_only = request.args.get(\"relevant_only\")\n",
    "    sold_age = request.args.get(\"sold_age\")\n",
    "    loan_limit = request.args.get(\"loan_limit\")\n",
    "\n",
    "    current_url_new = url_extractor(area, keys, min_year )\n",
    "\n",
    "    df = scraper2(current_url = current_url_new ,relevant_only = relevant_only ,sold_age = sold_age,loan_limit = int(loan_limit))\n",
    "\n",
    "    \n",
    "    return render_template('view.html',tables=[df.to_html(classes ='scraper')],\n",
    "    titles = ['na', 'Results'])\n",
    "\n",
    "@app.route('/comparison',methods=[\"GET\"])\n",
    "def compare_pct():\n",
    " \n",
    "    # Remember to add new parameters here: \n",
    "     \n",
    "    area = request.args.get(\"area\")\n",
    "    num_pages = request.args.get(\"num_pages\")\n",
    "    metric = request.args.get(\"metric\")\n",
    "\n",
    "    output = pct_change_metric(area = area, num_pages = num_pages , metric = metric )\n",
    "\n",
    "    return output\n",
    "\n",
    "if __name__=='__main__':\n",
    "    app.run()\n",
    "    \n",
    "\n",
    "# if __name__=='__main__':\n",
    "#     app.run(host='0.0.0.0',port=8000)"
   ]
  },
  {
   "cell_type": "markdown",
   "metadata": {},
   "source": [
    "## 2. Docker\n",
    "https://www.youtube.com/watch?v=cDwsaQoP4Lk&list=PLZoTAELRMXVNKtpy0U_Mx9N26w8n0hIbs&index=6 "
   ]
  },
  {
   "cell_type": "code",
   "execution_count": null,
   "metadata": {},
   "outputs": [],
   "source": []
  },
  {
   "cell_type": "code",
   "execution_count": null,
   "metadata": {},
   "outputs": [],
   "source": []
  },
  {
   "cell_type": "markdown",
   "metadata": {},
   "source": [
    "# GitHub pull request"
   ]
  },
  {
   "cell_type": "code",
   "execution_count": 8,
   "metadata": {},
   "outputs": [
    {
     "name": "stdout",
     "output_type": "stream",
     "text": [
      "Already up to date.\n",
      "[master 08dc21e] Last run on 2020-11-11 21:41:59.650450\n",
      " 4 files changed, 1301 insertions(+), 2249 deletions(-)\n",
      " rewrite HemnetScraper/.ipynb_checkpoints/Hemnet_scraper_main -checkpoint.ipynb (61%)\n",
      " create mode 100644 HemnetScraper/Dockerfile\n",
      " rewrite HemnetScraper/Hemnet_scraper_main .ipynb (61%)\n",
      "Enumerating objects: 12, done.\n",
      "Counting objects: 100% (12/12), done.\n",
      "Delta compression using up to 4 threads\n",
      "Compressing objects: 100% (6/6), done.\n",
      "Writing objects: 100% (7/7), 2.28 KiB | 2.28 MiB/s, done.\n",
      "Total 7 (delta 4), reused 0 (delta 0)\n",
      "remote: Resolving deltas: 100% (4/4), completed with 4 local objects.\u001b[K\n",
      "To https://github.com/tabers77/Python-Projects.git\n",
      "   a58f7db..08dc21e  master -> master\n",
      "Done!\n"
     ]
    }
   ],
   "source": [
    "import datetime\n",
    "# 1 Get the current path \n",
    "s = ! pwd\n",
    "current_path = ''\n",
    "for i in s: \n",
    "    current_path+= i\n",
    "# 2 Pull request\n",
    "! git pull\n",
    "\n",
    "# 3\n",
    "now = datetime.datetime.now()\n",
    "commit_message = \"Last run on \" + str(now)\n",
    "! cd '/Users/Tabe/Desktop/Courses/Data-Science /Test-Projects/Python-Projects/HemnetScraper'\n",
    "! echo $commit_message > commit_message.txt\n",
    "! git add . \n",
    "! git commit -F commit_message.txt\n",
    "! git push origin master # here I choose either master or branch \n",
    "print ('Done!')"
   ]
  },
  {
   "cell_type": "code",
   "execution_count": null,
   "metadata": {},
   "outputs": [],
   "source": []
  }
 ],
 "metadata": {
  "kernelspec": {
   "display_name": "hemnet_env",
   "language": "python",
   "name": "hemnet_env"
  },
  "language_info": {
   "codemirror_mode": {
    "name": "ipython",
    "version": 3
   },
   "file_extension": ".py",
   "mimetype": "text/x-python",
   "name": "python",
   "nbconvert_exporter": "python",
   "pygments_lexer": "ipython3",
   "version": "3.7.9"
  }
 },
 "nbformat": 4,
 "nbformat_minor": 2
}
